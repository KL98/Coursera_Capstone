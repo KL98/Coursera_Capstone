{
    "cells": [
        {
            "cell_type": "markdown",
            "metadata": {
                "collapsed": true
            },
            "source": "# K-Means Clustering of Municipalities Based on Venue Categories in Miami-Dade County"
        },
        {
            "cell_type": "markdown",
            "metadata": {},
            "source": "*The Capstone Project of IBM Professional Certificate Courses at Coursera*"
        },
        {
            "cell_type": "markdown",
            "metadata": {},
            "source": "**Kangrui Lu**"
        },
        {
            "attachments": {},
            "cell_type": "markdown",
            "metadata": {},
            "source": "## Table of contents\n1. [Abstract](#abstract)\n2. [Introduction](#introduction)\n3. [Data Acquisition and Methodology](#data&method)"
        },
        {
            "cell_type": "markdown",
            "metadata": {},
            "source": "## Abstract <a name=\"abstract\"></a>"
        },
        {
            "cell_type": "markdown",
            "metadata": {},
            "source": "&emsp;&emsp;  Miami-Dade County, known as Miami or Dade, is often recognized as one of the most culturally diverse and congregated area in the country. We used K-Means method to cluster the 35 municipalities of Miami-Dade County into 5 distinct groups based on the business venues located in each area. The findings would facilitate future city planning, distribution of resources, and site selection for future business initiative or development."
        },
        {
            "cell_type": "markdown",
            "metadata": {},
            "source": "## Introduction <a name=\"introduction\"></a>"
        },
        {
            "cell_type": "markdown",
            "metadata": {},
            "source": "&emsp;&emsp;  Miami-Dade County, located in south Florida, is the most populous county in the state, and one of the most populous county in the United States (United States Census Bureau, 2019). Besides its enormous population body, Miami-Dade County is also a hub for variety of businesses ranging from hospitality to financial institutions. There are 35 municipalities within the boundary of Miami-Dade, which are distinct in terms of population density, type of businesses, and lifestyle. In this study, we aimed to utilize K-Means method and the Foursquare location data to cluster these municipalities or cities into different groups based on the venues located in each area."
        },
        {
            "cell_type": "markdown",
            "metadata": {},
            "source": "## Data Acquisition and Methodology <a name=\"data&method\"></a>"
        },
        {
            "attachments": {},
            "cell_type": "markdown",
            "metadata": {},
            "source": "**Data Acquisition and Exploratory Analysis**\n\n&emsp;&emsp;  Firstly, I got a list of municipalities (or cities) in Miami-Dade County (Miami-Dade County GIS Open Data, 2019)from the Miami-Dade County Open Data Hub. There are 35 municipalities in Miami-Dade, including an 'Unincorporated Miami-Dade' area, which covers mostly the Everglades National Park. This area was later removed from the dataset for analysis, given this area is uninhabited. Then, considering a list of coordinates for each of the municipalities are difficult to find, I used the 'Nominatim' function and Foursquare API in a loop to generate the corresponding coordinates for each municipality according to their names, and insert the coordinates into the dataset.\n\n&emsp;&emsp;  To searching for venues, I defined a function \u2018getNearbyVenues\u2019 to loop through Foursquare API and get 100 venues for each municipality and insert back into the dataset. Within the Miami-Dade County, 6 municipalities have the number of venues under 100, with Sweetwater area having the least of 45 venues. Moreover, I collected the data of population by municipality of Miami-Dade County (United States Census Bureau, 2010) from the US Census Bureau and merged with the municipality dataset for later analysis. \n\n**Methodology**\n\n&emsp;&emsp;  To examine each municipality and conduct clustering, I used the K-means method with 5 clusters. Firstly, I calculated the frequency of occurrence of each venue category by municipality. Then, I selected the top 10 most common venue categories for each area by defining a \u2018most_common_venues\u2019 function. Next, I applied the K-Means clustering method to cluster all the municipalities into 5 clusters based on the category of venues. The number of clusters was chosen based on the elbow methods, where 6 cluster would over split the municipalities, and 4 clusters would not properly group them into clusters with similar attributes. To map the results, I used \u2018folium\u2019 function with geographic API municipality boundary GeoJSON file from Miami-Dade County Open Data Hub (Miami-Dade County GIS Open Data, 2020), and build the choropleth map of population by municipality. Then, I added markers according to the clusters onto the choropleth map. "
        },
        {
            "cell_type": "code",
            "execution_count": null,
            "metadata": {},
            "outputs": [],
            "source": ""
        }
    ],
    "metadata": {
        "kernelspec": {
            "display_name": "Python 3.6",
            "language": "python",
            "name": "python3"
        },
        "language_info": {
            "codemirror_mode": {
                "name": "ipython",
                "version": 3
            },
            "file_extension": ".py",
            "mimetype": "text/x-python",
            "name": "python",
            "nbconvert_exporter": "python",
            "pygments_lexer": "ipython3",
            "version": "3.6.9"
        }
    },
    "nbformat": 4,
    "nbformat_minor": 1
}