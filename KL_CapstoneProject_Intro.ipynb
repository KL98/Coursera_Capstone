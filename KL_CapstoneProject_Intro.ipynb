{
    "cells": [
        {
            "cell_type": "markdown",
            "metadata": {
                "collapsed": true
            },
            "source": "# K-Means Clustering of Municipalities Based on Venue Categories in Miami-Dade County"
        },
        {
            "cell_type": "markdown",
            "metadata": {},
            "source": "*The Capstone Project of IBM Professional Certificate Courses at Coursera*"
        },
        {
            "cell_type": "markdown",
            "metadata": {},
            "source": "**Kangrui Lu**"
        },
        {
            "cell_type": "markdown",
            "metadata": {},
            "source": "## Table of contents\n1. [Abstract](#abstract)\n2. [Introduction](#introduction)"
        },
        {
            "cell_type": "markdown",
            "metadata": {},
            "source": "## Abstract <a name=\"abstract\"></a>"
        },
        {
            "cell_type": "markdown",
            "metadata": {},
            "source": "&emsp;&emsp;  Miami-Dade County, known as Miami or Dade, is often recognized as one of the most culturally diverse and congregated area in the country. We used K-Means method to cluster the 35 municipalities of Miami-Dade County into 5 distinct groups based on the business venues located in each area. The findings would facilitate future city planning, distribution of resources, and site selection for future business initiative or development."
        },
        {
            "cell_type": "markdown",
            "metadata": {},
            "source": "## Introduction <a name=\"introduction\"></a>"
        },
        {
            "cell_type": "markdown",
            "metadata": {},
            "source": "&emsp;&emsp;  Miami-Dade County, located in south Florida, is the most populous county in the state, and one of the most populous county in the United States (United States Census Bureau, 2019). Besides its enormous population body, Miami-Dade County is also a hub for variety of businesses ranging from hospitality to financial institutions. There are 35 municipalities within the boundary of Miami-Dade, which are distinct in terms of population density, type of businesses, and lifestyle. In this study, we aimed to utilize K-Means method and the Foursquare location data to cluster these municipalities or cities into different groups based on the venues located in each area."
        },
        {
            "cell_type": "code",
            "execution_count": null,
            "metadata": {},
            "outputs": [],
            "source": ""
        }
    ],
    "metadata": {
        "kernelspec": {
            "display_name": "Python 3.6",
            "language": "python",
            "name": "python3"
        },
        "language_info": {
            "codemirror_mode": {
                "name": "ipython",
                "version": 3
            },
            "file_extension": ".py",
            "mimetype": "text/x-python",
            "name": "python",
            "nbconvert_exporter": "python",
            "pygments_lexer": "ipython3",
            "version": "3.6.9"
        }
    },
    "nbformat": 4,
    "nbformat_minor": 1
}