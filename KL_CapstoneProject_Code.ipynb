{
    "cells": [
        {
            "cell_type": "markdown",
            "metadata": {},
            "source": "# K-Means Clustering of Municipalities Based on Venue Categories in Miami-Dade County\n"
        },
        {
            "cell_type": "markdown",
            "metadata": {},
            "source": "*The Capstone Project of IBM Professional Certificate Courses at Coursera*"
        },
        {
            "cell_type": "markdown",
            "metadata": {},
            "source": "**Kangrui Lu**"
        },
        {
            "cell_type": "markdown",
            "metadata": {},
            "source": "**Libraries imported**"
        },
        {
            "cell_type": "code",
            "execution_count": 1,
            "metadata": {
                "scrolled": false
            },
            "outputs": [
                {
                    "name": "stdout",
                    "output_type": "stream",
                    "text": "Solving environment: done\n\n## Package Plan ##\n\n  environment location: /opt/conda/envs/Python36\n\n  added / updated specs: \n    - folium=0.5.0\n\n\nThe following packages will be downloaded:\n\n    package                    |            build\n    ---------------------------|-----------------\n    certifi-2020.6.20          |   py36h9f0ad1d_0         151 KB  conda-forge\n    altair-4.1.0               |             py_1         614 KB  conda-forge\n    openssl-1.1.1g             |       h516909a_0         2.1 MB  conda-forge\n    ca-certificates-2020.6.20  |       hecda079_0         145 KB  conda-forge\n    vincent-0.4.4              |             py_1          28 KB  conda-forge\n    python_abi-3.6             |          1_cp36m           4 KB  conda-forge\n    branca-0.4.1               |             py_0          26 KB  conda-forge\n    folium-0.5.0               |             py_0          45 KB  conda-forge\n    ------------------------------------------------------------\n                                           Total:         3.1 MB\n\nThe following NEW packages will be INSTALLED:\n\n    altair:          4.1.0-py_1        conda-forge\n    branca:          0.4.1-py_0        conda-forge\n    folium:          0.5.0-py_0        conda-forge\n    python_abi:      3.6-1_cp36m       conda-forge\n    vincent:         0.4.4-py_1        conda-forge\n\nThe following packages will be UPDATED:\n\n    ca-certificates: 2020.1.1-0                    --> 2020.6.20-hecda079_0     conda-forge\n    certifi:         2020.6.20-py36_0              --> 2020.6.20-py36h9f0ad1d_0 conda-forge\n    openssl:         1.1.1g-h7b6447c_0             --> 1.1.1g-h516909a_0        conda-forge\n\n\nDownloading and Extracting Packages\ncertifi-2020.6.20    | 151 KB    | ##################################### | 100% \naltair-4.1.0         | 614 KB    | ##################################### | 100% \nopenssl-1.1.1g       | 2.1 MB    | ##################################### | 100% \nca-certificates-2020 | 145 KB    | ##################################### | 100% \nvincent-0.4.4        | 28 KB     | ##################################### | 100% \npython_abi-3.6       | 4 KB      | ##################################### | 100% \nbranca-0.4.1         | 26 KB     | ##################################### | 100% \nfolium-0.5.0         | 45 KB     | ##################################### | 100% \nPreparing transaction: done\nVerifying transaction: done\nExecuting transaction: done\nFolium installed\nLibraries imported.\n"
                }
            ],
            "source": "import requests\nimport pandas as pd\nimport numpy as np \nimport random \nimport json\nimport time\nimport matplotlib.cm as cm\nimport matplotlib.colors as colors\n\nfrom IPython.display import Image \nfrom IPython.core.display import HTML \nfrom pandas.io.json import json_normalize\nfrom sklearn.cluster import KMeans\n\n!conda install -c conda-forge folium=0.5.0 --yes\nimport folium\n#!conda install -c conda-forge geopy --yes \nfrom geopy.geocoders import Nominatim\nprint('Folium installed')\nprint('Libraries imported.')"
        },
        {
            "cell_type": "markdown",
            "metadata": {},
            "source": "**List of municipality in Miami-Dade**"
        },
        {
            "cell_type": "code",
            "execution_count": 2,
            "metadata": {
                "scrolled": true
            },
            "outputs": [],
            "source": "!wget -q -O 'miami_data.json' https://opendata.arcgis.com/datasets/b671f3bc435d40928bf22b5f44410600_0.geojson"
        },
        {
            "cell_type": "code",
            "execution_count": 3,
            "metadata": {
                "scrolled": true
            },
            "outputs": [],
            "source": "with open('miami_data.json') as json_data:\n    miami_data = json.load(json_data)"
        },
        {
            "cell_type": "code",
            "execution_count": 4,
            "metadata": {
                "scrolled": true
            },
            "outputs": [],
            "source": "miami_municipality = miami_data['features']"
        },
        {
            "cell_type": "markdown",
            "metadata": {},
            "source": "Construct a dataframe for miami municipalities"
        },
        {
            "cell_type": "code",
            "execution_count": 5,
            "metadata": {
                "scrolled": true
            },
            "outputs": [],
            "source": "column_names = ['MuniID','Municipality'] \ndf_MIA = pd.DataFrame(columns=column_names)"
        },
        {
            "cell_type": "code",
            "execution_count": 6,
            "metadata": {
                "scrolled": true
            },
            "outputs": [
                {
                    "data": {
                        "text/html": "<div>\n<style scoped>\n    .dataframe tbody tr th:only-of-type {\n        vertical-align: middle;\n    }\n\n    .dataframe tbody tr th {\n        vertical-align: top;\n    }\n\n    .dataframe thead th {\n        text-align: right;\n    }\n</style>\n<table border=\"1\" class=\"dataframe\">\n  <thead>\n    <tr style=\"text-align: right;\">\n      <th></th>\n      <th>MuniID</th>\n      <th>Municipality</th>\n    </tr>\n  </thead>\n  <tbody>\n    <tr>\n      <th>0</th>\n      <td>5</td>\n      <td>MIAMI SPRINGS</td>\n    </tr>\n    <tr>\n      <th>1</th>\n      <td>23</td>\n      <td>NORTH BAY VILLAGE</td>\n    </tr>\n    <tr>\n      <th>2</th>\n      <td>32</td>\n      <td>MIAMI LAKES</td>\n    </tr>\n    <tr>\n      <th>3</th>\n      <td>24</td>\n      <td>KEY BISCAYNE</td>\n    </tr>\n    <tr>\n      <th>4</th>\n      <td>26</td>\n      <td>VIRGINIA GARDENS</td>\n    </tr>\n  </tbody>\n</table>\n</div>",
                        "text/plain": "  MuniID       Municipality\n0      5      MIAMI SPRINGS\n1     23  NORTH BAY VILLAGE\n2     32        MIAMI LAKES\n3     24       KEY BISCAYNE\n4     26   VIRGINIA GARDENS"
                    },
                    "execution_count": 6,
                    "metadata": {},
                    "output_type": "execute_result"
                }
            ],
            "source": "for data in miami_municipality:\n    MuniID = Municipality = data['properties']['MUNICID'] \n    Municipality = data['properties']['NAME']\n    \n    df_MIA = df_MIA.append({'MuniID': MuniID,'Municipality': Municipality}, ignore_index=True)\n    \ndf_MIA.head()"
        },
        {
            "cell_type": "markdown",
            "metadata": {},
            "source": "**Foursquare Credentials**"
        },
        {
            "cell_type": "markdown",
            "metadata": {
                "scrolled": true
            },
            "source": "This section of code was later removed for privacy reason."
        },
        {
            "cell_type": "markdown",
            "metadata": {},
            "source": "**Get coordinates for those municipalities**"
        },
        {
            "cell_type": "markdown",
            "metadata": {},
            "source": "Use the code below in a loop to generate coordinates for every municipalities, and insert into the df_MIA. Note there are several NaN in latitudes been generated. Modify the dataframe to populate these rows with coordinates generated from 'geocode'."
        },
        {
            "cell_type": "code",
            "execution_count": null,
            "metadata": {
                "scrolled": true
            },
            "outputs": [],
            "source": "geolocator = Nominatim(user_agent=\"foursquare_agent\")\nfor x in range(0,len(df_MIA)):\n    location = geolocator.geocode(df_MIA['Municipality'][x])\n    time.sleep(2)\n    df_MIA.at[x, 'lat']=location.latitude\n    df_MIA.at[x, 'lon']=location.longitude"
        },
        {
            "cell_type": "code",
            "execution_count": 10,
            "metadata": {
                "scrolled": true
            },
            "outputs": [],
            "source": "df_MIA = df_MIA.drop([df_MIA.index[30],df_MIA.index[31],df_MIA.index[32],df_MIA.index[33],df_MIA.index[34]])"
        },
        {
            "cell_type": "code",
            "execution_count": 11,
            "metadata": {
                "scrolled": true
            },
            "outputs": [],
            "source": "#address = 'GOLDEN BEACH, FL'\n#geolocator = Nominatim(user_agent=\"foursquare_agent\")\n#location = geolocator.geocode(address)\n#latitude = location.latitude\n#longitude = location.longitude\n#print(latitude, longitude)\n\nrow_30 = {'MuniID':'18', 'Municipality':'EL PORTAL', 'lat':25.8553739, 'lon':-80.193103}\nrow_31 = {'MuniID':'15', 'Municipality':'WEST MIAMI', 'lat':25.7632181, 'lon':-80.2958939}\nrow_32 = {'MuniID':'3', 'Municipality':'CORAL GABLES', 'lat':25.72149, 'lon':-80.2683838}\nrow_33 = {'MuniID':'19', 'Municipality':'GOLDEN BEACH', 'lat':25.9660825, 'lon':-80.12097619912299}\ndf_MIA = df_MIA.append([row_30,row_31,row_32,row_33], ignore_index=True)"
        },
        {
            "cell_type": "code",
            "execution_count": 13,
            "metadata": {
                "scrolled": true
            },
            "outputs": [
                {
                    "name": "stdout",
                    "output_type": "stream",
                    "text": "(34, 4)\n"
                },
                {
                    "data": {
                        "text/html": "<div>\n<style scoped>\n    .dataframe tbody tr th:only-of-type {\n        vertical-align: middle;\n    }\n\n    .dataframe tbody tr th {\n        vertical-align: top;\n    }\n\n    .dataframe thead th {\n        text-align: right;\n    }\n</style>\n<table border=\"1\" class=\"dataframe\">\n  <thead>\n    <tr style=\"text-align: right;\">\n      <th></th>\n      <th>MuniID</th>\n      <th>Municipality</th>\n      <th>lat</th>\n      <th>lon</th>\n    </tr>\n  </thead>\n  <tbody>\n    <tr>\n      <th>0</th>\n      <td>5</td>\n      <td>MIAMI SPRINGS</td>\n      <td>25.821848</td>\n      <td>-80.292708</td>\n    </tr>\n    <tr>\n      <th>1</th>\n      <td>23</td>\n      <td>NORTH BAY VILLAGE</td>\n      <td>25.846207</td>\n      <td>-80.153935</td>\n    </tr>\n    <tr>\n      <th>2</th>\n      <td>32</td>\n      <td>MIAMI LAKES</td>\n      <td>25.911621</td>\n      <td>-80.321275</td>\n    </tr>\n    <tr>\n      <th>3</th>\n      <td>24</td>\n      <td>KEY BISCAYNE</td>\n      <td>25.696835</td>\n      <td>-80.163526</td>\n    </tr>\n    <tr>\n      <th>4</th>\n      <td>26</td>\n      <td>VIRGINIA GARDENS</td>\n      <td>25.810376</td>\n      <td>-80.302273</td>\n    </tr>\n  </tbody>\n</table>\n</div>",
                        "text/plain": "  MuniID       Municipality        lat        lon\n0      5      MIAMI SPRINGS  25.821848 -80.292708\n1     23  NORTH BAY VILLAGE  25.846207 -80.153935\n2     32        MIAMI LAKES  25.911621 -80.321275\n3     24       KEY BISCAYNE  25.696835 -80.163526\n4     26   VIRGINIA GARDENS  25.810376 -80.302273"
                    },
                    "execution_count": 13,
                    "metadata": {},
                    "output_type": "execute_result"
                }
            ],
            "source": "print(df_MIA.shape)\ndf_MIA.head()"
        },
        {
            "cell_type": "markdown",
            "metadata": {},
            "source": "**Explore venues in these municipalities**"
        },
        {
            "cell_type": "code",
            "execution_count": 14,
            "metadata": {
                "scrolled": true
            },
            "outputs": [],
            "source": "def getNearbyVenues(names, latitudes, longitudes, radius=5000):\n    \n    venues_list=[]\n    for name, lat, lng in zip(names, latitudes, longitudes):\n        print(name)\n            \n        url = 'https://api.foursquare.com/v2/venues/explore?&client_id={}&client_secret={}&v={}&ll={},{}&radius={}&limit={}'.format(\n            CLIENT_ID, \n            CLIENT_SECRET, \n            VERSION, \n            lat, \n            lng, \n            radius,\n            LIMIT)\n\n        results = requests.get(url).json()[\"response\"]['groups'][0]['items']\n        \n        venues_list.append([(\n            name, \n            lat, \n            lng, \n            v['venue']['name'], \n            v['venue']['location']['lat'], \n            v['venue']['location']['lng'],  \n            v['venue']['categories'][0]['name']) for v in results])\n\n    nearby_venues = pd.DataFrame([item for venue_list in venues_list for item in venue_list])\n    nearby_venues.columns = ['Municipality', \n                  'Muni_Lat', \n                  'Muni_Lon', \n                  'Venue', \n                  'Venue_Lat', \n                  'Venue_Lon', \n                  'Venue_Category']\n    \n    return(nearby_venues)"
        },
        {
            "cell_type": "code",
            "execution_count": null,
            "metadata": {},
            "outputs": [
                {
                    "name": "stdout",
                    "output_type": "stream",
                    "text": "MIAMI SPRINGS\nNORTH BAY VILLAGE\nMIAMI LAKES\nKEY BISCAYNE\nVIRGINIA GARDENS\nMIAMI BEACH\nNORTH MIAMI BEACH\nAVENTURA\nSOUTH MIAMI\nHIALEAH\nOPA-LOCKA\nHIALEAH GARDENS\nBISCAYNE PARK\nSURFSIDE\nDORAL\nPINECREST\nINDIAN CREEK VILLAGE\nSUNNY ISLES BEACH\nMIAMI\nSWEETWATER\nMIAMI GARDENS\nHOMESTEAD\nBAY HARBOR ISLANDS\nFLORIDA CITY\n"
                }
            ],
            "source": "miami_venues = getNearbyVenues(names=df_MIA['Municipality'],\n                                   latitudes=df_MIA['lat'],\n                                   longitudes=df_MIA['lon']\n                                  )"
        },
        {
            "cell_type": "code",
            "execution_count": null,
            "metadata": {},
            "outputs": [],
            "source": "print(miami_venues.shape)\nmiami_venues.head()"
        },
        {
            "cell_type": "code",
            "execution_count": null,
            "metadata": {
                "scrolled": true
            },
            "outputs": [],
            "source": "miami_venues.groupby('Municipality').count()"
        },
        {
            "cell_type": "markdown",
            "metadata": {},
            "source": "Frequency of occurrence of each category by municipality"
        },
        {
            "cell_type": "code",
            "execution_count": null,
            "metadata": {},
            "outputs": [],
            "source": "miami_onehot = pd.get_dummies(miami_venues[['Venue_Category']], prefix=\"\", prefix_sep=\"\")\nmiami_onehot['Municipality'] = miami_venues['Municipality'] \nfixed_columns = [miami_onehot.columns[-1]] + list(miami_onehot.columns[:-1])\nmiami_onehot = miami_onehot[fixed_columns]\nmiami_grouped = miami_onehot.groupby('Municipality').mean().reset_index()\nmiami_grouped.head()"
        },
        {
            "cell_type": "markdown",
            "metadata": {},
            "source": "Top 10 venues of each municipality"
        },
        {
            "cell_type": "code",
            "execution_count": null,
            "metadata": {
                "scrolled": true
            },
            "outputs": [],
            "source": "def most_common_venues(row, num_top_venues):\n    row_categories = row.iloc[1:]\n    row_categories_sorted = row_categories.sort_values(ascending=False)\n    \n    return row_categories_sorted.index.values[0:num_top_venues]\n\nnum_top_venues = 10\n\nindicators = ['st', 'nd', 'rd']\n\ncolumns = ['Municipality']\nfor ind in np.arange(num_top_venues):\n    try:\n        columns.append('{}{} Most Common Venue'.format(ind+1, indicators[ind]))\n    except:\n        columns.append('{}th Most Common Venue'.format(ind+1))\n\nmiamimuni_venues_sorted = pd.DataFrame(columns=columns)\nmiamimuni_venues_sorted['Municipality'] = miami_grouped['Municipality']\n\nfor ind in np.arange(miami_grouped.shape[0]):\n    miamimuni_venues_sorted.iloc[ind, 1:] = most_common_venues(miami_grouped.iloc[ind, :], num_top_venues)\n\nmiamimuni_venues_sorted.head()"
        },
        {
            "cell_type": "markdown",
            "metadata": {},
            "source": "**K-Mean Clustering**"
        },
        {
            "cell_type": "code",
            "execution_count": null,
            "metadata": {},
            "outputs": [],
            "source": "kclusters = 5\n\nmiami_grouped_clustering = miami_grouped.drop('Municipality', 1)\nkmeans = KMeans(n_clusters=kclusters, random_state=0).fit(miami_grouped_clustering)\nkmeans.labels_[0:10] \nmiamimuni_venues_sorted.insert(0, 'Cluster Labels', kmeans.labels_)\nmiami_merged = df_MIA\nmiami_merged = miami_merged.join(miamimuni_venues_sorted.set_index('Municipality'), on='Municipality')\n\nmiami_merged.head()"
        },
        {
            "cell_type": "markdown",
            "metadata": {},
            "source": "Examine the clusters"
        },
        {
            "cell_type": "code",
            "execution_count": null,
            "metadata": {},
            "outputs": [],
            "source": "cluster1 = miami_merged.loc[miami_merged['Cluster Labels'] == 0, miami_merged.columns[[1] + list(range(5, miami_merged.shape[1]))]]\ncluster1 = cluster1.transpose()\ncluster1"
        },
        {
            "cell_type": "code",
            "execution_count": null,
            "metadata": {},
            "outputs": [],
            "source": "cluster2 = miami_merged.loc[miami_merged['Cluster Labels'] == 1, miami_merged.columns[[1] + list(range(5, miami_merged.shape[1]))]]\ncluster2 = cluster2.transpose()\ncluster2"
        },
        {
            "cell_type": "code",
            "execution_count": null,
            "metadata": {},
            "outputs": [],
            "source": "cluster3 = miami_merged.loc[miami_merged['Cluster Labels'] == 2, miami_merged.columns[[1] + list(range(5, miami_merged.shape[1]))]]\ncluster3 = cluster3.transpose()\ncluster3"
        },
        {
            "cell_type": "code",
            "execution_count": null,
            "metadata": {},
            "outputs": [],
            "source": "cluster4 = miami_merged.loc[miami_merged['Cluster Labels'] == 3, miami_merged.columns[[1] + list(range(5, miami_merged.shape[1]))]]\ncluster4 = cluster4.transpose()\ncluster4"
        },
        {
            "cell_type": "code",
            "execution_count": null,
            "metadata": {},
            "outputs": [],
            "source": "cluster5 = miami_merged.loc[miami_merged['Cluster Labels'] == 4, miami_merged.columns[[1] + list(range(5, miami_merged.shape[1]))]]\ncluster5 = cluster5.transpose()\ncluster5"
        },
        {
            "cell_type": "markdown",
            "metadata": {},
            "source": "**Overview of Miami-Dade population by municipality**"
        },
        {
            "cell_type": "code",
            "execution_count": null,
            "metadata": {},
            "outputs": [],
            "source": "url = 'https://raw.githubusercontent.com/KL98/Coursera_Capstone/master/MiamiDade_populationbycity.csv'\nmiami_pop = pd.read_csv(url)\nmiami_pop.head()"
        },
        {
            "cell_type": "code",
            "execution_count": null,
            "metadata": {},
            "outputs": [],
            "source": "miami_pop['2010 Population'] = miami_pop['2010 Population'].str.replace(',','')\nconvert_dict = {'2010 Population': int} \nmiami_pop = miami_pop.astype(convert_dict) \nmiami_pop = miami_pop.rename(columns={\"Incorporated Community\": \"Municipality\", \"2010 Population\": \"Population\"})\nmiami_pop = miami_pop.drop(['Designation'], axis=1)\nmiami_pop['Municipality'] = miami_pop['Municipality'].str.upper() \n\nmiami_pop_coor = pd.merge(df_MIA, miami_pop, on = 'Municipality', how = 'left')\nmiami_pop_coor.head()"
        },
        {
            "cell_type": "code",
            "execution_count": null,
            "metadata": {},
            "outputs": [],
            "source": "miami_pop_coor = miami_pop_coor.drop(miami_pop_coor.index[16])"
        },
        {
            "cell_type": "code",
            "execution_count": null,
            "metadata": {},
            "outputs": [],
            "source": "miami_pop_coor.astype({'Population': 'int64'}).dtypes"
        },
        {
            "cell_type": "markdown",
            "metadata": {},
            "source": "Geopraphic Choropleth Map"
        },
        {
            "cell_type": "code",
            "execution_count": null,
            "metadata": {},
            "outputs": [],
            "source": "!wget --quiet https://opendata.arcgis.com/datasets/bd523e71861749959a7f12c9d0388d1c_0.geojson -O miami.json"
        },
        {
            "cell_type": "code",
            "execution_count": null,
            "metadata": {},
            "outputs": [],
            "source": "miami_geo = r'miami.json'"
        },
        {
            "cell_type": "code",
            "execution_count": null,
            "metadata": {},
            "outputs": [],
            "source": "threshold_scale = np.linspace(miami_pop_coor['Population'].min(),\n                              miami_pop_coor['Population'].max(),\n                              6, dtype=int)\nthreshold_scale = threshold_scale.tolist() \nthreshold_scale[-1] = threshold_scale[-1] + 1 \n\nmiami_pop_map = folium.Map(location=[25.7617, -80.1918], zoom_start=10)\nmiami_pop_map.choropleth(\n    geo_data=miami_geo,\n    data=miami_pop_coor,\n    columns=['Municipality', 'Population'],\n    key_on='feature.properties.NAME',\n    threshold_scale=threshold_scale,\n    fill_color='YlOrRd', \n    fill_opacity=0.7, \n    line_opacity=0.2,\n    legend_name='Population by Municipality'\n)\n\nx = np.arange(kclusters)\nys = [i + x + (i*x)**2 for i in range(kclusters)]\ncolors_array = cm.rainbow(np.linspace(0, 1, len(ys)))\nrainbow = [colors.rgb2hex(i) for i in colors_array]\n\nmarkers_colors = []\nfor lat, lon, poi, cluster in zip(miami_merged['lat'], miami_merged['lon'], miami_merged['Municipality'], miami_merged['Cluster Labels']):\n    label = folium.Popup(str(poi) + ' Cluster ' + str(cluster), parse_html=True)\n    folium.CircleMarker(\n        [lat, lon],\n        radius=5,\n        popup=label,\n        color=[\"blue\", \"grey\", \"green\", \"purple\",\"pink\"][cluster-1],\n        fill=True,\n        fill_color=[\"blue\", \"grey\", \"green\", \"purple\",\"pink\"][cluster-1],\n        fill_opacity=0.7).add_to(miami_pop_map)\n\nmiami_pop_map"
        }
    ],
    "metadata": {
        "kernelspec": {
            "display_name": "Python 3.6",
            "language": "python",
            "name": "python3"
        },
        "language_info": {
            "codemirror_mode": {
                "name": "ipython",
                "version": 3
            },
            "file_extension": ".py",
            "mimetype": "text/x-python",
            "name": "python",
            "nbconvert_exporter": "python",
            "pygments_lexer": "ipython3",
            "version": "3.6.9"
        }
    },
    "nbformat": 4,
    "nbformat_minor": 1
}